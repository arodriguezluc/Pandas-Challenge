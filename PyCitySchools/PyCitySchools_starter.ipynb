{
 "cells": [
  {
   "cell_type": "code",
   "execution_count": 424,
   "metadata": {
    "scrolled": true
   },
   "outputs": [
    {
     "data": {
      "text/html": [
       "<div>\n",
       "<style scoped>\n",
       "    .dataframe tbody tr th:only-of-type {\n",
       "        vertical-align: middle;\n",
       "    }\n",
       "\n",
       "    .dataframe tbody tr th {\n",
       "        vertical-align: top;\n",
       "    }\n",
       "\n",
       "    .dataframe thead th {\n",
       "        text-align: right;\n",
       "    }\n",
       "</style>\n",
       "<table border=\"1\" class=\"dataframe\">\n",
       "  <thead>\n",
       "    <tr style=\"text-align: right;\">\n",
       "      <th></th>\n",
       "      <th>Student ID</th>\n",
       "      <th>student_name</th>\n",
       "      <th>gender</th>\n",
       "      <th>grade</th>\n",
       "      <th>school_name</th>\n",
       "      <th>reading_score</th>\n",
       "      <th>math_score</th>\n",
       "      <th>School ID</th>\n",
       "      <th>type</th>\n",
       "      <th>size</th>\n",
       "      <th>budget</th>\n",
       "    </tr>\n",
       "  </thead>\n",
       "  <tbody>\n",
       "    <tr>\n",
       "      <th>0</th>\n",
       "      <td>0</td>\n",
       "      <td>Paul Bradley</td>\n",
       "      <td>M</td>\n",
       "      <td>9th</td>\n",
       "      <td>Huang High School</td>\n",
       "      <td>66</td>\n",
       "      <td>79</td>\n",
       "      <td>0</td>\n",
       "      <td>District</td>\n",
       "      <td>2917</td>\n",
       "      <td>1910635</td>\n",
       "    </tr>\n",
       "    <tr>\n",
       "      <th>1</th>\n",
       "      <td>1</td>\n",
       "      <td>Victor Smith</td>\n",
       "      <td>M</td>\n",
       "      <td>12th</td>\n",
       "      <td>Huang High School</td>\n",
       "      <td>94</td>\n",
       "      <td>61</td>\n",
       "      <td>0</td>\n",
       "      <td>District</td>\n",
       "      <td>2917</td>\n",
       "      <td>1910635</td>\n",
       "    </tr>\n",
       "    <tr>\n",
       "      <th>2</th>\n",
       "      <td>2</td>\n",
       "      <td>Kevin Rodriguez</td>\n",
       "      <td>M</td>\n",
       "      <td>12th</td>\n",
       "      <td>Huang High School</td>\n",
       "      <td>90</td>\n",
       "      <td>60</td>\n",
       "      <td>0</td>\n",
       "      <td>District</td>\n",
       "      <td>2917</td>\n",
       "      <td>1910635</td>\n",
       "    </tr>\n",
       "    <tr>\n",
       "      <th>3</th>\n",
       "      <td>3</td>\n",
       "      <td>Dr. Richard Scott</td>\n",
       "      <td>M</td>\n",
       "      <td>12th</td>\n",
       "      <td>Huang High School</td>\n",
       "      <td>67</td>\n",
       "      <td>58</td>\n",
       "      <td>0</td>\n",
       "      <td>District</td>\n",
       "      <td>2917</td>\n",
       "      <td>1910635</td>\n",
       "    </tr>\n",
       "    <tr>\n",
       "      <th>4</th>\n",
       "      <td>4</td>\n",
       "      <td>Bonnie Ray</td>\n",
       "      <td>F</td>\n",
       "      <td>9th</td>\n",
       "      <td>Huang High School</td>\n",
       "      <td>97</td>\n",
       "      <td>84</td>\n",
       "      <td>0</td>\n",
       "      <td>District</td>\n",
       "      <td>2917</td>\n",
       "      <td>1910635</td>\n",
       "    </tr>\n",
       "    <tr>\n",
       "      <th>...</th>\n",
       "      <td>...</td>\n",
       "      <td>...</td>\n",
       "      <td>...</td>\n",
       "      <td>...</td>\n",
       "      <td>...</td>\n",
       "      <td>...</td>\n",
       "      <td>...</td>\n",
       "      <td>...</td>\n",
       "      <td>...</td>\n",
       "      <td>...</td>\n",
       "      <td>...</td>\n",
       "    </tr>\n",
       "    <tr>\n",
       "      <th>39165</th>\n",
       "      <td>39165</td>\n",
       "      <td>Donna Howard</td>\n",
       "      <td>F</td>\n",
       "      <td>12th</td>\n",
       "      <td>Thomas High School</td>\n",
       "      <td>99</td>\n",
       "      <td>90</td>\n",
       "      <td>14</td>\n",
       "      <td>Charter</td>\n",
       "      <td>1635</td>\n",
       "      <td>1043130</td>\n",
       "    </tr>\n",
       "    <tr>\n",
       "      <th>39166</th>\n",
       "      <td>39166</td>\n",
       "      <td>Dawn Bell</td>\n",
       "      <td>F</td>\n",
       "      <td>10th</td>\n",
       "      <td>Thomas High School</td>\n",
       "      <td>95</td>\n",
       "      <td>70</td>\n",
       "      <td>14</td>\n",
       "      <td>Charter</td>\n",
       "      <td>1635</td>\n",
       "      <td>1043130</td>\n",
       "    </tr>\n",
       "    <tr>\n",
       "      <th>39167</th>\n",
       "      <td>39167</td>\n",
       "      <td>Rebecca Tanner</td>\n",
       "      <td>F</td>\n",
       "      <td>9th</td>\n",
       "      <td>Thomas High School</td>\n",
       "      <td>73</td>\n",
       "      <td>84</td>\n",
       "      <td>14</td>\n",
       "      <td>Charter</td>\n",
       "      <td>1635</td>\n",
       "      <td>1043130</td>\n",
       "    </tr>\n",
       "    <tr>\n",
       "      <th>39168</th>\n",
       "      <td>39168</td>\n",
       "      <td>Desiree Kidd</td>\n",
       "      <td>F</td>\n",
       "      <td>10th</td>\n",
       "      <td>Thomas High School</td>\n",
       "      <td>99</td>\n",
       "      <td>90</td>\n",
       "      <td>14</td>\n",
       "      <td>Charter</td>\n",
       "      <td>1635</td>\n",
       "      <td>1043130</td>\n",
       "    </tr>\n",
       "    <tr>\n",
       "      <th>39169</th>\n",
       "      <td>39169</td>\n",
       "      <td>Carolyn Jackson</td>\n",
       "      <td>F</td>\n",
       "      <td>11th</td>\n",
       "      <td>Thomas High School</td>\n",
       "      <td>95</td>\n",
       "      <td>75</td>\n",
       "      <td>14</td>\n",
       "      <td>Charter</td>\n",
       "      <td>1635</td>\n",
       "      <td>1043130</td>\n",
       "    </tr>\n",
       "  </tbody>\n",
       "</table>\n",
       "<p>39170 rows × 11 columns</p>\n",
       "</div>"
      ],
      "text/plain": [
       "       Student ID       student_name gender grade         school_name  \\\n",
       "0               0       Paul Bradley      M   9th   Huang High School   \n",
       "1               1       Victor Smith      M  12th   Huang High School   \n",
       "2               2    Kevin Rodriguez      M  12th   Huang High School   \n",
       "3               3  Dr. Richard Scott      M  12th   Huang High School   \n",
       "4               4         Bonnie Ray      F   9th   Huang High School   \n",
       "...           ...                ...    ...   ...                 ...   \n",
       "39165       39165       Donna Howard      F  12th  Thomas High School   \n",
       "39166       39166          Dawn Bell      F  10th  Thomas High School   \n",
       "39167       39167     Rebecca Tanner      F   9th  Thomas High School   \n",
       "39168       39168       Desiree Kidd      F  10th  Thomas High School   \n",
       "39169       39169    Carolyn Jackson      F  11th  Thomas High School   \n",
       "\n",
       "       reading_score  math_score  School ID      type  size   budget  \n",
       "0                 66          79          0  District  2917  1910635  \n",
       "1                 94          61          0  District  2917  1910635  \n",
       "2                 90          60          0  District  2917  1910635  \n",
       "3                 67          58          0  District  2917  1910635  \n",
       "4                 97          84          0  District  2917  1910635  \n",
       "...              ...         ...        ...       ...   ...      ...  \n",
       "39165             99          90         14   Charter  1635  1043130  \n",
       "39166             95          70         14   Charter  1635  1043130  \n",
       "39167             73          84         14   Charter  1635  1043130  \n",
       "39168             99          90         14   Charter  1635  1043130  \n",
       "39169             95          75         14   Charter  1635  1043130  \n",
       "\n",
       "[39170 rows x 11 columns]"
      ]
     },
     "execution_count": 424,
     "metadata": {},
     "output_type": "execute_result"
    }
   ],
   "source": [
    "# Dependencies and Setup\n",
    "import pandas as pd\n",
    "\n",
    "# File to Load (Remember to Change These)\n",
    "school_data_to_load = \"Resources/schools_complete.csv\"\n",
    "student_data_to_load = \"Resources/students_complete.csv\"\n",
    "\n",
    "# Read School and Student Data File and store into Pandas DataFrames\n",
    "school_data = pd.read_csv(school_data_to_load)\n",
    "student_data = pd.read_csv(student_data_to_load)\n",
    "\n",
    "# Combine the data into a single dataset.  \n",
    "school_data_complete = pd.merge(student_data, school_data, how=\"left\", on=[\"school_name\", \"school_name\"])\n",
    "school_data_complete"
   ]
  },
  {
   "cell_type": "markdown",
   "metadata": {},
   "source": [
    "## District Summary\n",
    "\n",
    "* Calculate the total number of schools\n",
    "\n",
    "* Calculate the total number of students\n",
    "\n",
    "* Calculate the total budget\n",
    "\n",
    "* Calculate the average math score \n",
    "\n",
    "* Calculate the average reading score\n",
    "\n",
    "* Calculate the percentage of students with a passing math score (70 or greater)\n",
    "\n",
    "* Calculate the percentage of students with a passing reading score (70 or greater)\n",
    "\n",
    "* Calculate the percentage of students who passed math **and** reading (% Overall Passing)\n",
    "\n",
    "* Create a dataframe to hold the above results\n",
    "\n",
    "* Optional: give the displayed data cleaner formatting"
   ]
  },
  {
   "cell_type": "code",
   "execution_count": 426,
   "metadata": {
    "scrolled": true
   },
   "outputs": [
    {
     "data": {
      "text/plain": [
       "15"
      ]
     },
     "execution_count": 426,
     "metadata": {},
     "output_type": "execute_result"
    }
   ],
   "source": [
    "#Total number of schools\n",
    "total_number_schools = len(school_data_complete[\"School ID\"].unique())\n",
    "total_number_schools"
   ]
  },
  {
   "cell_type": "code",
   "execution_count": 3,
   "metadata": {},
   "outputs": [
    {
     "data": {
      "text/plain": [
       "39170"
      ]
     },
     "execution_count": 3,
     "metadata": {},
     "output_type": "execute_result"
    }
   ],
   "source": [
    "#Total number of students\n",
    "total_number_students = len(school_data_complete[\"Student ID\"].unique())\n",
    "total_number_students"
   ]
  },
  {
   "cell_type": "code",
   "execution_count": 4,
   "metadata": {},
   "outputs": [
    {
     "data": {
      "text/plain": [
       "24649428"
      ]
     },
     "execution_count": 4,
     "metadata": {},
     "output_type": "execute_result"
    }
   ],
   "source": [
    "#Total budget\n",
    "total_budget = school_data[\"budget\"].sum()\n",
    "total_budget"
   ]
  },
  {
   "cell_type": "code",
   "execution_count": 5,
   "metadata": {},
   "outputs": [
    {
     "data": {
      "text/plain": [
       "78.98537145774827"
      ]
     },
     "execution_count": 5,
     "metadata": {},
     "output_type": "execute_result"
    }
   ],
   "source": [
    "#Average math score\n",
    "average_math_score = student_data[\"math_score\"].mean()\n",
    "average_math_score"
   ]
  },
  {
   "cell_type": "code",
   "execution_count": 18,
   "metadata": {},
   "outputs": [
    {
     "data": {
      "text/plain": [
       "81.87784018381414"
      ]
     },
     "execution_count": 18,
     "metadata": {},
     "output_type": "execute_result"
    }
   ],
   "source": [
    "#Average reading score\n",
    "average_reading_score = student_data[\"reading_score\"].mean()\n",
    "average_reading_score\n"
   ]
  },
  {
   "cell_type": "code",
   "execution_count": 19,
   "metadata": {},
   "outputs": [
    {
     "data": {
      "text/plain": [
       "80.43160582078121"
      ]
     },
     "execution_count": 19,
     "metadata": {},
     "output_type": "execute_result"
    }
   ],
   "source": [
    "#Overall passing rate or \"overall average score\" = (avg. math score + avg. reading score)/2\n",
    "overall_average_score = (average_math_score + average_reading_score)/2\n",
    "overall_average_score"
   ]
  },
  {
   "cell_type": "code",
   "execution_count": 20,
   "metadata": {},
   "outputs": [
    {
     "data": {
      "text/plain": [
       "74.9808526933878"
      ]
     },
     "execution_count": 20,
     "metadata": {},
     "output_type": "execute_result"
    }
   ],
   "source": [
    "#Percentage of students with a passing math score (70 or greater)\n",
    "#Creates a 1 for passing students in math. 0 otherwise. Then takes the mean/average and multiplies it by 100 to get the percentage of passing students\n",
    "student_data[\"#passing_math\"] = student_data[\"math_score\"] >= 70\n",
    "percent_passing_math = ((student_data[\"#passing_math\"]).mean())*100\n",
    "percent_passing_math"
   ]
  },
  {
   "cell_type": "code",
   "execution_count": 21,
   "metadata": {},
   "outputs": [
    {
     "data": {
      "text/plain": [
       "85.80546336482001"
      ]
     },
     "execution_count": 21,
     "metadata": {},
     "output_type": "execute_result"
    }
   ],
   "source": [
    "#Percentage of students with a passing reading score (70 or greater)\n",
    "#Creates a 1 for passing students in reading. 0 otherwise. Then takes the mean/average and multiplies it by 100 to get the percentage of passing students\n",
    "student_data[\"#passing_reading\"] = student_data[\"reading_score\"] >= 70\n",
    "percent_passing_reading = ((student_data[\"#passing_reading\"]).mean())*100\n",
    "percent_passing_reading"
   ]
  },
  {
   "cell_type": "code",
   "execution_count": 22,
   "metadata": {},
   "outputs": [
    {
     "data": {
      "text/plain": [
       "80.39315802910392"
      ]
     },
     "execution_count": 22,
     "metadata": {},
     "output_type": "execute_result"
    }
   ],
   "source": [
    "#Overall percentage\n",
    "overall_passing_rate = (percent_passing_math + percent_passing_reading)/2\n",
    "overall_passing_rate"
   ]
  },
  {
   "cell_type": "code",
   "execution_count": 405,
   "metadata": {
    "scrolled": false
   },
   "outputs": [
    {
     "data": {
      "text/html": [
       "<div>\n",
       "<style scoped>\n",
       "    .dataframe tbody tr th:only-of-type {\n",
       "        vertical-align: middle;\n",
       "    }\n",
       "\n",
       "    .dataframe tbody tr th {\n",
       "        vertical-align: top;\n",
       "    }\n",
       "\n",
       "    .dataframe thead th {\n",
       "        text-align: right;\n",
       "    }\n",
       "</style>\n",
       "<table border=\"1\" class=\"dataframe\">\n",
       "  <thead>\n",
       "    <tr style=\"text-align: right;\">\n",
       "      <th></th>\n",
       "      <th>Total Schools</th>\n",
       "      <th>Total Students</th>\n",
       "      <th>Total Budget</th>\n",
       "      <th>Average Math Score</th>\n",
       "      <th>Average Reading Score</th>\n",
       "      <th>% Passing Math</th>\n",
       "      <th>% Passing Reading</th>\n",
       "      <th>% Overall Passing Rate</th>\n",
       "    </tr>\n",
       "  </thead>\n",
       "  <tbody>\n",
       "    <tr>\n",
       "      <th>0</th>\n",
       "      <td>15</td>\n",
       "      <td>39,170</td>\n",
       "      <td>$24,649,428.00</td>\n",
       "      <td>78.99</td>\n",
       "      <td>81.88</td>\n",
       "      <td>74.98%</td>\n",
       "      <td>85.81</td>\n",
       "      <td>80.39%</td>\n",
       "    </tr>\n",
       "  </tbody>\n",
       "</table>\n",
       "</div>"
      ],
      "text/plain": [
       "   Total Schools Total Students    Total Budget  Average Math Score  \\\n",
       "0             15         39,170  $24,649,428.00               78.99   \n",
       "\n",
       "   Average Reading Score % Passing Math  % Passing Reading  \\\n",
       "0                  81.88         74.98%              85.81   \n",
       "\n",
       "  % Overall Passing Rate  \n",
       "0                 80.39%  "
      ]
     },
     "execution_count": 405,
     "metadata": {},
     "output_type": "execute_result"
    }
   ],
   "source": [
    "#Dataframe to hold the above results\n",
    "#Cleaner formatting for displayed data \n",
    "district_results = [{\"Total Schools\": total_number_schools, \n",
    "            \"Total Students\": total_number_students, \n",
    "            \"Total Budget\": total_budget, \n",
    "            \"Average Math Score\": round(average_math_score,2), \n",
    "            \"Average Reading Score\": round(average_reading_score,2), \n",
    "            \"% Passing Math\": round(percent_passing_math,2),\n",
    "            \"% Passing Reading\": round(percent_passing_reading,2),\n",
    "            \"% Overall Passing Rate\": round(overall_passing_rate,2)}]\n",
    "\n",
    "district_summary_table = pd.DataFrame(district_results)\n",
    "\n",
    "#Formatting\n",
    "district_summary_table[\"% Passing Math\"] = district_summary_table[\"% Passing Math\"].map(\"{:,.2f}%\".format)\n",
    "district_summary_table[\"% Overall Passing Rate\"] = district_summary_table[\"% Overall Passing Rate\"].map(\"{:,.2f}%\".format)\n",
    "district_summary_table[\"Total Budget\"] = district_summary_table[\"Total Budget\"].map(\"${:,.2f}\".format)\n",
    "district_summary_table[\"Total Students\"] = district_summary_table[\"Total Students\"].map(\"{:,}\".format)\n",
    "\n",
    "\n",
    "#Display\n",
    "district_summary_table"
   ]
  },
  {
   "cell_type": "markdown",
   "metadata": {},
   "source": [
    "## School Summary"
   ]
  },
  {
   "cell_type": "markdown",
   "metadata": {},
   "source": [
    "* Create an overview table that summarizes key metrics about each school, including:\n",
    "  * School Name\n",
    "  * School Type\n",
    "  * Total Students\n",
    "  * Total School Budget\n",
    "  * Per Student Budget\n",
    "  * Average Math Score\n",
    "  * Average Reading Score\n",
    "  * % Passing Math\n",
    "  * % Passing Reading\n",
    "  * % Overall Passing (The percentage of students that passed math **and** reading.)\n",
    "  \n",
    "* Create a dataframe to hold the above results"
   ]
  },
  {
   "cell_type": "code",
   "execution_count": null,
   "metadata": {},
   "outputs": [],
   "source": [
    "#Part 2, school_data_complete\n",
    "\n",
    "school_data_complete[\"passing_math\"] = school_data_complete[\"math_score\"] >= 70\n",
    "school_data_complete[\"passing_reading\"] = school_data_complete[\"reading_score\"] >= 70\n",
    "\n",
    "school_data_complete"
   ]
  },
  {
   "cell_type": "code",
   "execution_count": null,
   "metadata": {},
   "outputs": [],
   "source": [
    "school_group = school_data_complete.groupby([\"school_name\"]).mean()\n",
    "school_group[\"Per Student Budget\"] = school_group[\"budget\"]/school_group[\"size\"]\n",
    "school_group[\"% Passing Math\"] = round(school_group[\"passing_math\"]*100,2)\n",
    "school_group[\"% Passing Reading\"] = round(school_group[\"passing_reading\"]*100,2)\n",
    "school_group[\"% Overall Passing Rate\"] = round(((school_group[\"passing_math\"] + school_group[\"passing_reading\"])/2)*100,3)\n",
    "\n",
    "#Merge with school_data to collect information about the type, size and budget\n",
    "school_data_summary = pd.merge(school_group, school_data, how=\"left\", on=[\"school_name\", \"school_name\"])\n",
    "del school_data_summary['size_y']\n",
    "del school_data_summary['budget_y']\n",
    "del school_data_summary['Student ID']\n",
    "del school_data_summary['School ID_x']\n",
    "\n",
    "#Create a dataframe to store the results\n",
    "school_summary_dataframe = pd.DataFrame({\"School Name\":  school_data_summary[\"school_name\"],\n",
    "                                \"School Type\": school_data_summary[\"type\"],\n",
    "                               \"Total Students\":school_data_summary[\"size_x\"],\n",
    "                               \"Total School Budget\": school_data_summary[\"budget_x\"],\n",
    "                               \"Per Student Budget\":school_data_summary[\"Per Student Budget\"], \n",
    "                               \"Average Math Score\":round(school_data_summary[\"math_score\"],2),\n",
    "                               \"Average Reading Score\":round(school_data_summary[\"reading_score\"],2), \n",
    "                               \"% Passing Math\": school_data_summary[\"% Passing Math\"],\n",
    "                               \"% Passing Reading\": school_data_summary[\"% Passing Reading\"],\n",
    "                               \"% Overall Passing Rate\": school_data_summary[\"% Overall Passing Rate\"]}) \n",
    "\n",
    "#Formatting\n",
    "school_summary_dataframe[\"Total Students\"] = school_summary_dataframe[\"Total Students\"].map(\"{:,.0f}\".format)\n",
    "school_summary_dataframe[\"Total School Budget\"] = school_summary_dataframe[\"Total School Budget\"].map(\"${:,.2f}\".format)\n",
    "school_summary_dataframe[\"Per Student Budget\"] = school_summary_dataframe[\"Per Student Budget\"].map(\"${:,.2f}\".format)\n",
    "#Display\n",
    "school_summary_dataframe"
   ]
  },
  {
   "cell_type": "markdown",
   "metadata": {},
   "source": [
    "## Top Performing Schools (By % Overall Passing)"
   ]
  },
  {
   "cell_type": "markdown",
   "metadata": {},
   "source": [
    "* Sort and display the top five performing schools by % overall passing."
   ]
  },
  {
   "cell_type": "code",
   "execution_count": 389,
   "metadata": {
    "scrolled": true
   },
   "outputs": [
    {
     "data": {
      "text/html": [
       "<div>\n",
       "<style scoped>\n",
       "    .dataframe tbody tr th:only-of-type {\n",
       "        vertical-align: middle;\n",
       "    }\n",
       "\n",
       "    .dataframe tbody tr th {\n",
       "        vertical-align: top;\n",
       "    }\n",
       "\n",
       "    .dataframe thead th {\n",
       "        text-align: right;\n",
       "    }\n",
       "</style>\n",
       "<table border=\"1\" class=\"dataframe\">\n",
       "  <thead>\n",
       "    <tr style=\"text-align: right;\">\n",
       "      <th></th>\n",
       "      <th>School Name</th>\n",
       "      <th>School Type</th>\n",
       "      <th>Total Students</th>\n",
       "      <th>Total School Budget</th>\n",
       "      <th>Per Student Budget</th>\n",
       "      <th>Average Math Score</th>\n",
       "      <th>Average Reading Score</th>\n",
       "      <th>% Passing Math</th>\n",
       "      <th>% Passing Reading</th>\n",
       "      <th>% Overall Passing Rate</th>\n",
       "    </tr>\n",
       "  </thead>\n",
       "  <tbody>\n",
       "    <tr>\n",
       "      <th>1</th>\n",
       "      <td>Cabrera High School</td>\n",
       "      <td>Charter</td>\n",
       "      <td>1,858</td>\n",
       "      <td>$1,081,356.00</td>\n",
       "      <td>$582.00</td>\n",
       "      <td>83.0</td>\n",
       "      <td>84.0</td>\n",
       "      <td>94.13</td>\n",
       "      <td>97.04</td>\n",
       "      <td>95.587</td>\n",
       "    </tr>\n",
       "    <tr>\n",
       "      <th>12</th>\n",
       "      <td>Thomas High School</td>\n",
       "      <td>Charter</td>\n",
       "      <td>1,635</td>\n",
       "      <td>$1,043,130.00</td>\n",
       "      <td>$638.00</td>\n",
       "      <td>83.0</td>\n",
       "      <td>84.0</td>\n",
       "      <td>93.27</td>\n",
       "      <td>97.31</td>\n",
       "      <td>95.291</td>\n",
       "    </tr>\n",
       "    <tr>\n",
       "      <th>9</th>\n",
       "      <td>Pena High School</td>\n",
       "      <td>Charter</td>\n",
       "      <td>962</td>\n",
       "      <td>$585,858.00</td>\n",
       "      <td>$609.00</td>\n",
       "      <td>84.0</td>\n",
       "      <td>84.0</td>\n",
       "      <td>94.59</td>\n",
       "      <td>95.95</td>\n",
       "      <td>95.270</td>\n",
       "    </tr>\n",
       "    <tr>\n",
       "      <th>4</th>\n",
       "      <td>Griffin High School</td>\n",
       "      <td>Charter</td>\n",
       "      <td>1,468</td>\n",
       "      <td>$917,500.00</td>\n",
       "      <td>$625.00</td>\n",
       "      <td>83.0</td>\n",
       "      <td>84.0</td>\n",
       "      <td>93.39</td>\n",
       "      <td>97.14</td>\n",
       "      <td>95.266</td>\n",
       "    </tr>\n",
       "    <tr>\n",
       "      <th>13</th>\n",
       "      <td>Wilson High School</td>\n",
       "      <td>Charter</td>\n",
       "      <td>2,283</td>\n",
       "      <td>$1,319,574.00</td>\n",
       "      <td>$578.00</td>\n",
       "      <td>83.0</td>\n",
       "      <td>84.0</td>\n",
       "      <td>93.87</td>\n",
       "      <td>96.54</td>\n",
       "      <td>95.204</td>\n",
       "    </tr>\n",
       "  </tbody>\n",
       "</table>\n",
       "</div>"
      ],
      "text/plain": [
       "            School Name School Type Total Students Total School Budget  \\\n",
       "1   Cabrera High School     Charter          1,858       $1,081,356.00   \n",
       "12   Thomas High School     Charter          1,635       $1,043,130.00   \n",
       "9      Pena High School     Charter            962         $585,858.00   \n",
       "4   Griffin High School     Charter          1,468         $917,500.00   \n",
       "13   Wilson High School     Charter          2,283       $1,319,574.00   \n",
       "\n",
       "   Per Student Budget  Average Math Score  Average Reading Score  \\\n",
       "1             $582.00                83.0                   84.0   \n",
       "12            $638.00                83.0                   84.0   \n",
       "9             $609.00                84.0                   84.0   \n",
       "4             $625.00                83.0                   84.0   \n",
       "13            $578.00                83.0                   84.0   \n",
       "\n",
       "    % Passing Math  % Passing Reading  % Overall Passing Rate  \n",
       "1            94.13              97.04                  95.587  \n",
       "12           93.27              97.31                  95.291  \n",
       "9            94.59              95.95                  95.270  \n",
       "4            93.39              97.14                  95.266  \n",
       "13           93.87              96.54                  95.204  "
      ]
     },
     "execution_count": 389,
     "metadata": {},
     "output_type": "execute_result"
    }
   ],
   "source": [
    "#Top five schools in overall passing rate\n",
    "\n",
    "top_five_schools = school_summary_dataframe.sort_values([\"% Overall Passing Rate\"], ascending=False)\n",
    "top_five_schools.head()\n"
   ]
  },
  {
   "cell_type": "markdown",
   "metadata": {},
   "source": [
    "## Bottom Performing Schools (By % Overall Passing)"
   ]
  },
  {
   "cell_type": "markdown",
   "metadata": {},
   "source": [
    "* Sort and display the five worst-performing schools by % overall passing."
   ]
  },
  {
   "cell_type": "code",
   "execution_count": 420,
   "metadata": {},
   "outputs": [
    {
     "data": {
      "text/html": [
       "<div>\n",
       "<style scoped>\n",
       "    .dataframe tbody tr th:only-of-type {\n",
       "        vertical-align: middle;\n",
       "    }\n",
       "\n",
       "    .dataframe tbody tr th {\n",
       "        vertical-align: top;\n",
       "    }\n",
       "\n",
       "    .dataframe thead th {\n",
       "        text-align: right;\n",
       "    }\n",
       "</style>\n",
       "<table border=\"1\" class=\"dataframe\">\n",
       "  <thead>\n",
       "    <tr style=\"text-align: right;\">\n",
       "      <th></th>\n",
       "      <th>School Name</th>\n",
       "      <th>School Type</th>\n",
       "      <th>Total Students</th>\n",
       "      <th>Total School Budget</th>\n",
       "      <th>Per Student Budget</th>\n",
       "      <th>Average Math Score</th>\n",
       "      <th>Average Reading Score</th>\n",
       "      <th>% Passing Math</th>\n",
       "      <th>% Passing Reading</th>\n",
       "      <th>% Overall Passing Rate</th>\n",
       "    </tr>\n",
       "  </thead>\n",
       "  <tbody>\n",
       "    <tr>\n",
       "      <th>10</th>\n",
       "      <td>Rodriguez High School</td>\n",
       "      <td>District</td>\n",
       "      <td>3,999</td>\n",
       "      <td>$2,547,363.00</td>\n",
       "      <td>$637.00</td>\n",
       "      <td>77.0</td>\n",
       "      <td>81.0</td>\n",
       "      <td>66.37</td>\n",
       "      <td>80.22</td>\n",
       "      <td>73.293</td>\n",
       "    </tr>\n",
       "    <tr>\n",
       "      <th>2</th>\n",
       "      <td>Figueroa High School</td>\n",
       "      <td>District</td>\n",
       "      <td>2,949</td>\n",
       "      <td>$1,884,411.00</td>\n",
       "      <td>$639.00</td>\n",
       "      <td>77.0</td>\n",
       "      <td>81.0</td>\n",
       "      <td>65.99</td>\n",
       "      <td>80.74</td>\n",
       "      <td>73.364</td>\n",
       "    </tr>\n",
       "    <tr>\n",
       "      <th>7</th>\n",
       "      <td>Huang High School</td>\n",
       "      <td>District</td>\n",
       "      <td>2,917</td>\n",
       "      <td>$1,910,635.00</td>\n",
       "      <td>$655.00</td>\n",
       "      <td>77.0</td>\n",
       "      <td>81.0</td>\n",
       "      <td>65.68</td>\n",
       "      <td>81.32</td>\n",
       "      <td>73.500</td>\n",
       "    </tr>\n",
       "    <tr>\n",
       "      <th>8</th>\n",
       "      <td>Johnson High School</td>\n",
       "      <td>District</td>\n",
       "      <td>4,761</td>\n",
       "      <td>$3,094,650.00</td>\n",
       "      <td>$650.00</td>\n",
       "      <td>77.0</td>\n",
       "      <td>81.0</td>\n",
       "      <td>66.06</td>\n",
       "      <td>81.22</td>\n",
       "      <td>73.640</td>\n",
       "    </tr>\n",
       "    <tr>\n",
       "      <th>3</th>\n",
       "      <td>Ford High School</td>\n",
       "      <td>District</td>\n",
       "      <td>2,739</td>\n",
       "      <td>$1,763,916.00</td>\n",
       "      <td>$644.00</td>\n",
       "      <td>77.0</td>\n",
       "      <td>81.0</td>\n",
       "      <td>68.31</td>\n",
       "      <td>79.30</td>\n",
       "      <td>73.804</td>\n",
       "    </tr>\n",
       "  </tbody>\n",
       "</table>\n",
       "</div>"
      ],
      "text/plain": [
       "              School Name School Type Total Students Total School Budget  \\\n",
       "10  Rodriguez High School    District          3,999       $2,547,363.00   \n",
       "2    Figueroa High School    District          2,949       $1,884,411.00   \n",
       "7       Huang High School    District          2,917       $1,910,635.00   \n",
       "8     Johnson High School    District          4,761       $3,094,650.00   \n",
       "3        Ford High School    District          2,739       $1,763,916.00   \n",
       "\n",
       "   Per Student Budget  Average Math Score  Average Reading Score  \\\n",
       "10            $637.00                77.0                   81.0   \n",
       "2             $639.00                77.0                   81.0   \n",
       "7             $655.00                77.0                   81.0   \n",
       "8             $650.00                77.0                   81.0   \n",
       "3             $644.00                77.0                   81.0   \n",
       "\n",
       "    % Passing Math  % Passing Reading  % Overall Passing Rate  \n",
       "10           66.37              80.22                  73.293  \n",
       "2            65.99              80.74                  73.364  \n",
       "7            65.68              81.32                  73.500  \n",
       "8            66.06              81.22                  73.640  \n",
       "3            68.31              79.30                  73.804  "
      ]
     },
     "execution_count": 420,
     "metadata": {},
     "output_type": "execute_result"
    }
   ],
   "source": [
    "#Top five lowest-performing schools\n",
    "\n",
    "bottom_five_schools = school_summary_dataframe.sort_values([\"% Overall Passing Rate\"], ascending=True)\n",
    "bottom_five_schools.head()"
   ]
  },
  {
   "cell_type": "markdown",
   "metadata": {
    "collapsed": true
   },
   "source": [
    "## Math Scores by Grade"
   ]
  },
  {
   "cell_type": "markdown",
   "metadata": {},
   "source": [
    "* Create a table that lists the average Reading Score for students of each grade level (9th, 10th, 11th, 12th) at each school.\n",
    "\n",
    "  * Create a pandas series for each grade. Hint: use a conditional statement.\n",
    "  \n",
    "  * Group each series by school\n",
    "  \n",
    "  * Combine the series into a dataframe\n",
    "  \n",
    "  * Optional: give the displayed data cleaner formatting"
   ]
  },
  {
   "cell_type": "code",
   "execution_count": 434,
   "metadata": {},
   "outputs": [
    {
     "data": {
      "text/html": [
       "<style  type=\"text/css\" >\n",
       "    #T_698b7ce3_b522_11eb_8948_f01dbc8d465f th {\n",
       "          border: 3px black solid !important;\n",
       "    }#T_698b7ce3_b522_11eb_8948_f01dbc8d465frow0_col0,#T_698b7ce3_b522_11eb_8948_f01dbc8d465frow0_col1,#T_698b7ce3_b522_11eb_8948_f01dbc8d465frow0_col2,#T_698b7ce3_b522_11eb_8948_f01dbc8d465frow0_col3,#T_698b7ce3_b522_11eb_8948_f01dbc8d465frow1_col0,#T_698b7ce3_b522_11eb_8948_f01dbc8d465frow1_col1,#T_698b7ce3_b522_11eb_8948_f01dbc8d465frow1_col2,#T_698b7ce3_b522_11eb_8948_f01dbc8d465frow1_col3,#T_698b7ce3_b522_11eb_8948_f01dbc8d465frow2_col0,#T_698b7ce3_b522_11eb_8948_f01dbc8d465frow2_col1,#T_698b7ce3_b522_11eb_8948_f01dbc8d465frow2_col2,#T_698b7ce3_b522_11eb_8948_f01dbc8d465frow2_col3,#T_698b7ce3_b522_11eb_8948_f01dbc8d465frow3_col0,#T_698b7ce3_b522_11eb_8948_f01dbc8d465frow3_col1,#T_698b7ce3_b522_11eb_8948_f01dbc8d465frow3_col2,#T_698b7ce3_b522_11eb_8948_f01dbc8d465frow3_col3,#T_698b7ce3_b522_11eb_8948_f01dbc8d465frow4_col0,#T_698b7ce3_b522_11eb_8948_f01dbc8d465frow4_col1,#T_698b7ce3_b522_11eb_8948_f01dbc8d465frow4_col2,#T_698b7ce3_b522_11eb_8948_f01dbc8d465frow4_col3,#T_698b7ce3_b522_11eb_8948_f01dbc8d465frow5_col0,#T_698b7ce3_b522_11eb_8948_f01dbc8d465frow5_col1,#T_698b7ce3_b522_11eb_8948_f01dbc8d465frow5_col2,#T_698b7ce3_b522_11eb_8948_f01dbc8d465frow5_col3,#T_698b7ce3_b522_11eb_8948_f01dbc8d465frow6_col0,#T_698b7ce3_b522_11eb_8948_f01dbc8d465frow6_col1,#T_698b7ce3_b522_11eb_8948_f01dbc8d465frow6_col2,#T_698b7ce3_b522_11eb_8948_f01dbc8d465frow6_col3,#T_698b7ce3_b522_11eb_8948_f01dbc8d465frow7_col0,#T_698b7ce3_b522_11eb_8948_f01dbc8d465frow7_col1,#T_698b7ce3_b522_11eb_8948_f01dbc8d465frow7_col2,#T_698b7ce3_b522_11eb_8948_f01dbc8d465frow7_col3,#T_698b7ce3_b522_11eb_8948_f01dbc8d465frow8_col0,#T_698b7ce3_b522_11eb_8948_f01dbc8d465frow8_col1,#T_698b7ce3_b522_11eb_8948_f01dbc8d465frow8_col2,#T_698b7ce3_b522_11eb_8948_f01dbc8d465frow8_col3,#T_698b7ce3_b522_11eb_8948_f01dbc8d465frow9_col0,#T_698b7ce3_b522_11eb_8948_f01dbc8d465frow9_col1,#T_698b7ce3_b522_11eb_8948_f01dbc8d465frow9_col2,#T_698b7ce3_b522_11eb_8948_f01dbc8d465frow9_col3,#T_698b7ce3_b522_11eb_8948_f01dbc8d465frow10_col0,#T_698b7ce3_b522_11eb_8948_f01dbc8d465frow10_col1,#T_698b7ce3_b522_11eb_8948_f01dbc8d465frow10_col2,#T_698b7ce3_b522_11eb_8948_f01dbc8d465frow10_col3,#T_698b7ce3_b522_11eb_8948_f01dbc8d465frow11_col0,#T_698b7ce3_b522_11eb_8948_f01dbc8d465frow11_col1,#T_698b7ce3_b522_11eb_8948_f01dbc8d465frow11_col2,#T_698b7ce3_b522_11eb_8948_f01dbc8d465frow11_col3,#T_698b7ce3_b522_11eb_8948_f01dbc8d465frow12_col0,#T_698b7ce3_b522_11eb_8948_f01dbc8d465frow12_col1,#T_698b7ce3_b522_11eb_8948_f01dbc8d465frow12_col2,#T_698b7ce3_b522_11eb_8948_f01dbc8d465frow12_col3,#T_698b7ce3_b522_11eb_8948_f01dbc8d465frow13_col0,#T_698b7ce3_b522_11eb_8948_f01dbc8d465frow13_col1,#T_698b7ce3_b522_11eb_8948_f01dbc8d465frow13_col2,#T_698b7ce3_b522_11eb_8948_f01dbc8d465frow13_col3,#T_698b7ce3_b522_11eb_8948_f01dbc8d465frow14_col0,#T_698b7ce3_b522_11eb_8948_f01dbc8d465frow14_col1,#T_698b7ce3_b522_11eb_8948_f01dbc8d465frow14_col2,#T_698b7ce3_b522_11eb_8948_f01dbc8d465frow14_col3{\n",
       "            color:  black !important;\n",
       "            border:  2px black solid !important;\n",
       "        }</style><table id=\"T_698b7ce3_b522_11eb_8948_f01dbc8d465f\" ><thead>    <tr>        <th class=\"blank level0\" ></th>        <th class=\"col_heading level0 col0\" >Ninth Grade</th>        <th class=\"col_heading level0 col1\" >Tenth Grade</th>        <th class=\"col_heading level0 col2\" >Eleventh Grade</th>        <th class=\"col_heading level0 col3\" >Twelveth Grade</th>    </tr>    <tr>        <th class=\"index_name level0\" >school_name</th>        <th class=\"blank\" ></th>        <th class=\"blank\" ></th>        <th class=\"blank\" ></th>        <th class=\"blank\" ></th>    </tr></thead><tbody>\n",
       "                <tr>\n",
       "                        <th id=\"T_698b7ce3_b522_11eb_8948_f01dbc8d465flevel0_row0\" class=\"row_heading level0 row0\" >Bailey High School</th>\n",
       "                        <td id=\"T_698b7ce3_b522_11eb_8948_f01dbc8d465frow0_col0\" class=\"data row0 col0\" >77.08</td>\n",
       "                        <td id=\"T_698b7ce3_b522_11eb_8948_f01dbc8d465frow0_col1\" class=\"data row0 col1\" >77.00</td>\n",
       "                        <td id=\"T_698b7ce3_b522_11eb_8948_f01dbc8d465frow0_col2\" class=\"data row0 col2\" >77.52</td>\n",
       "                        <td id=\"T_698b7ce3_b522_11eb_8948_f01dbc8d465frow0_col3\" class=\"data row0 col3\" >76.49</td>\n",
       "            </tr>\n",
       "            <tr>\n",
       "                        <th id=\"T_698b7ce3_b522_11eb_8948_f01dbc8d465flevel0_row1\" class=\"row_heading level0 row1\" >Cabrera High School</th>\n",
       "                        <td id=\"T_698b7ce3_b522_11eb_8948_f01dbc8d465frow1_col0\" class=\"data row1 col0\" >83.09</td>\n",
       "                        <td id=\"T_698b7ce3_b522_11eb_8948_f01dbc8d465frow1_col1\" class=\"data row1 col1\" >83.15</td>\n",
       "                        <td id=\"T_698b7ce3_b522_11eb_8948_f01dbc8d465frow1_col2\" class=\"data row1 col2\" >82.77</td>\n",
       "                        <td id=\"T_698b7ce3_b522_11eb_8948_f01dbc8d465frow1_col3\" class=\"data row1 col3\" >83.28</td>\n",
       "            </tr>\n",
       "            <tr>\n",
       "                        <th id=\"T_698b7ce3_b522_11eb_8948_f01dbc8d465flevel0_row2\" class=\"row_heading level0 row2\" >Figueroa High School</th>\n",
       "                        <td id=\"T_698b7ce3_b522_11eb_8948_f01dbc8d465frow2_col0\" class=\"data row2 col0\" >76.40</td>\n",
       "                        <td id=\"T_698b7ce3_b522_11eb_8948_f01dbc8d465frow2_col1\" class=\"data row2 col1\" >76.54</td>\n",
       "                        <td id=\"T_698b7ce3_b522_11eb_8948_f01dbc8d465frow2_col2\" class=\"data row2 col2\" >76.88</td>\n",
       "                        <td id=\"T_698b7ce3_b522_11eb_8948_f01dbc8d465frow2_col3\" class=\"data row2 col3\" >77.15</td>\n",
       "            </tr>\n",
       "            <tr>\n",
       "                        <th id=\"T_698b7ce3_b522_11eb_8948_f01dbc8d465flevel0_row3\" class=\"row_heading level0 row3\" >Ford High School</th>\n",
       "                        <td id=\"T_698b7ce3_b522_11eb_8948_f01dbc8d465frow3_col0\" class=\"data row3 col0\" >77.36</td>\n",
       "                        <td id=\"T_698b7ce3_b522_11eb_8948_f01dbc8d465frow3_col1\" class=\"data row3 col1\" >77.67</td>\n",
       "                        <td id=\"T_698b7ce3_b522_11eb_8948_f01dbc8d465frow3_col2\" class=\"data row3 col2\" >76.92</td>\n",
       "                        <td id=\"T_698b7ce3_b522_11eb_8948_f01dbc8d465frow3_col3\" class=\"data row3 col3\" >76.18</td>\n",
       "            </tr>\n",
       "            <tr>\n",
       "                        <th id=\"T_698b7ce3_b522_11eb_8948_f01dbc8d465flevel0_row4\" class=\"row_heading level0 row4\" >Griffin High School</th>\n",
       "                        <td id=\"T_698b7ce3_b522_11eb_8948_f01dbc8d465frow4_col0\" class=\"data row4 col0\" >82.04</td>\n",
       "                        <td id=\"T_698b7ce3_b522_11eb_8948_f01dbc8d465frow4_col1\" class=\"data row4 col1\" >84.23</td>\n",
       "                        <td id=\"T_698b7ce3_b522_11eb_8948_f01dbc8d465frow4_col2\" class=\"data row4 col2\" >83.84</td>\n",
       "                        <td id=\"T_698b7ce3_b522_11eb_8948_f01dbc8d465frow4_col3\" class=\"data row4 col3\" >83.36</td>\n",
       "            </tr>\n",
       "            <tr>\n",
       "                        <th id=\"T_698b7ce3_b522_11eb_8948_f01dbc8d465flevel0_row5\" class=\"row_heading level0 row5\" >Hernandez High School</th>\n",
       "                        <td id=\"T_698b7ce3_b522_11eb_8948_f01dbc8d465frow5_col0\" class=\"data row5 col0\" >77.44</td>\n",
       "                        <td id=\"T_698b7ce3_b522_11eb_8948_f01dbc8d465frow5_col1\" class=\"data row5 col1\" >77.34</td>\n",
       "                        <td id=\"T_698b7ce3_b522_11eb_8948_f01dbc8d465frow5_col2\" class=\"data row5 col2\" >77.14</td>\n",
       "                        <td id=\"T_698b7ce3_b522_11eb_8948_f01dbc8d465frow5_col3\" class=\"data row5 col3\" >77.19</td>\n",
       "            </tr>\n",
       "            <tr>\n",
       "                        <th id=\"T_698b7ce3_b522_11eb_8948_f01dbc8d465flevel0_row6\" class=\"row_heading level0 row6\" >Holden High School</th>\n",
       "                        <td id=\"T_698b7ce3_b522_11eb_8948_f01dbc8d465frow6_col0\" class=\"data row6 col0\" >83.79</td>\n",
       "                        <td id=\"T_698b7ce3_b522_11eb_8948_f01dbc8d465frow6_col1\" class=\"data row6 col1\" >83.43</td>\n",
       "                        <td id=\"T_698b7ce3_b522_11eb_8948_f01dbc8d465frow6_col2\" class=\"data row6 col2\" >85.00</td>\n",
       "                        <td id=\"T_698b7ce3_b522_11eb_8948_f01dbc8d465frow6_col3\" class=\"data row6 col3\" >82.86</td>\n",
       "            </tr>\n",
       "            <tr>\n",
       "                        <th id=\"T_698b7ce3_b522_11eb_8948_f01dbc8d465flevel0_row7\" class=\"row_heading level0 row7\" >Huang High School</th>\n",
       "                        <td id=\"T_698b7ce3_b522_11eb_8948_f01dbc8d465frow7_col0\" class=\"data row7 col0\" >77.03</td>\n",
       "                        <td id=\"T_698b7ce3_b522_11eb_8948_f01dbc8d465frow7_col1\" class=\"data row7 col1\" >75.91</td>\n",
       "                        <td id=\"T_698b7ce3_b522_11eb_8948_f01dbc8d465frow7_col2\" class=\"data row7 col2\" >76.45</td>\n",
       "                        <td id=\"T_698b7ce3_b522_11eb_8948_f01dbc8d465frow7_col3\" class=\"data row7 col3\" >77.23</td>\n",
       "            </tr>\n",
       "            <tr>\n",
       "                        <th id=\"T_698b7ce3_b522_11eb_8948_f01dbc8d465flevel0_row8\" class=\"row_heading level0 row8\" >Johnson High School</th>\n",
       "                        <td id=\"T_698b7ce3_b522_11eb_8948_f01dbc8d465frow8_col0\" class=\"data row8 col0\" >77.19</td>\n",
       "                        <td id=\"T_698b7ce3_b522_11eb_8948_f01dbc8d465frow8_col1\" class=\"data row8 col1\" >76.69</td>\n",
       "                        <td id=\"T_698b7ce3_b522_11eb_8948_f01dbc8d465frow8_col2\" class=\"data row8 col2\" >77.49</td>\n",
       "                        <td id=\"T_698b7ce3_b522_11eb_8948_f01dbc8d465frow8_col3\" class=\"data row8 col3\" >76.86</td>\n",
       "            </tr>\n",
       "            <tr>\n",
       "                        <th id=\"T_698b7ce3_b522_11eb_8948_f01dbc8d465flevel0_row9\" class=\"row_heading level0 row9\" >Pena High School</th>\n",
       "                        <td id=\"T_698b7ce3_b522_11eb_8948_f01dbc8d465frow9_col0\" class=\"data row9 col0\" >83.63</td>\n",
       "                        <td id=\"T_698b7ce3_b522_11eb_8948_f01dbc8d465frow9_col1\" class=\"data row9 col1\" >83.37</td>\n",
       "                        <td id=\"T_698b7ce3_b522_11eb_8948_f01dbc8d465frow9_col2\" class=\"data row9 col2\" >84.33</td>\n",
       "                        <td id=\"T_698b7ce3_b522_11eb_8948_f01dbc8d465frow9_col3\" class=\"data row9 col3\" >84.12</td>\n",
       "            </tr>\n",
       "            <tr>\n",
       "                        <th id=\"T_698b7ce3_b522_11eb_8948_f01dbc8d465flevel0_row10\" class=\"row_heading level0 row10\" >Rodriguez High School</th>\n",
       "                        <td id=\"T_698b7ce3_b522_11eb_8948_f01dbc8d465frow10_col0\" class=\"data row10 col0\" >76.86</td>\n",
       "                        <td id=\"T_698b7ce3_b522_11eb_8948_f01dbc8d465frow10_col1\" class=\"data row10 col1\" >76.61</td>\n",
       "                        <td id=\"T_698b7ce3_b522_11eb_8948_f01dbc8d465frow10_col2\" class=\"data row10 col2\" >76.40</td>\n",
       "                        <td id=\"T_698b7ce3_b522_11eb_8948_f01dbc8d465frow10_col3\" class=\"data row10 col3\" >77.69</td>\n",
       "            </tr>\n",
       "            <tr>\n",
       "                        <th id=\"T_698b7ce3_b522_11eb_8948_f01dbc8d465flevel0_row11\" class=\"row_heading level0 row11\" >Shelton High School</th>\n",
       "                        <td id=\"T_698b7ce3_b522_11eb_8948_f01dbc8d465frow11_col0\" class=\"data row11 col0\" >83.42</td>\n",
       "                        <td id=\"T_698b7ce3_b522_11eb_8948_f01dbc8d465frow11_col1\" class=\"data row11 col1\" >82.92</td>\n",
       "                        <td id=\"T_698b7ce3_b522_11eb_8948_f01dbc8d465frow11_col2\" class=\"data row11 col2\" >83.38</td>\n",
       "                        <td id=\"T_698b7ce3_b522_11eb_8948_f01dbc8d465frow11_col3\" class=\"data row11 col3\" >83.78</td>\n",
       "            </tr>\n",
       "            <tr>\n",
       "                        <th id=\"T_698b7ce3_b522_11eb_8948_f01dbc8d465flevel0_row12\" class=\"row_heading level0 row12\" >Thomas High School</th>\n",
       "                        <td id=\"T_698b7ce3_b522_11eb_8948_f01dbc8d465frow12_col0\" class=\"data row12 col0\" >83.59</td>\n",
       "                        <td id=\"T_698b7ce3_b522_11eb_8948_f01dbc8d465frow12_col1\" class=\"data row12 col1\" >83.09</td>\n",
       "                        <td id=\"T_698b7ce3_b522_11eb_8948_f01dbc8d465frow12_col2\" class=\"data row12 col2\" >83.50</td>\n",
       "                        <td id=\"T_698b7ce3_b522_11eb_8948_f01dbc8d465frow12_col3\" class=\"data row12 col3\" >83.50</td>\n",
       "            </tr>\n",
       "            <tr>\n",
       "                        <th id=\"T_698b7ce3_b522_11eb_8948_f01dbc8d465flevel0_row13\" class=\"row_heading level0 row13\" >Wilson High School</th>\n",
       "                        <td id=\"T_698b7ce3_b522_11eb_8948_f01dbc8d465frow13_col0\" class=\"data row13 col0\" >83.09</td>\n",
       "                        <td id=\"T_698b7ce3_b522_11eb_8948_f01dbc8d465frow13_col1\" class=\"data row13 col1\" >83.72</td>\n",
       "                        <td id=\"T_698b7ce3_b522_11eb_8948_f01dbc8d465frow13_col2\" class=\"data row13 col2\" >83.20</td>\n",
       "                        <td id=\"T_698b7ce3_b522_11eb_8948_f01dbc8d465frow13_col3\" class=\"data row13 col3\" >83.04</td>\n",
       "            </tr>\n",
       "            <tr>\n",
       "                        <th id=\"T_698b7ce3_b522_11eb_8948_f01dbc8d465flevel0_row14\" class=\"row_heading level0 row14\" >Wright High School</th>\n",
       "                        <td id=\"T_698b7ce3_b522_11eb_8948_f01dbc8d465frow14_col0\" class=\"data row14 col0\" >83.26</td>\n",
       "                        <td id=\"T_698b7ce3_b522_11eb_8948_f01dbc8d465frow14_col1\" class=\"data row14 col1\" >84.01</td>\n",
       "                        <td id=\"T_698b7ce3_b522_11eb_8948_f01dbc8d465frow14_col2\" class=\"data row14 col2\" >83.84</td>\n",
       "                        <td id=\"T_698b7ce3_b522_11eb_8948_f01dbc8d465frow14_col3\" class=\"data row14 col3\" >83.64</td>\n",
       "            </tr>\n",
       "    </tbody></table>"
      ],
      "text/plain": [
       "<pandas.io.formats.style.Styler at 0x1daa0eea3a0>"
      ]
     },
     "execution_count": 434,
     "metadata": {},
     "output_type": "execute_result"
    }
   ],
   "source": [
    "#Math scores by grade.Series grouped by school.\n",
    "\n",
    "nineth_grade=  school_data_complete[school_data_complete[\"grade\"] == \"9th\"].groupby(\"school_name\").mean()[\"math_score\"]\n",
    "tenth_grade =  school_data_complete[school_data_complete[\"grade\"] == \"10th\"].groupby(\"school_name\").mean()[\"math_score\"]\n",
    "eleventh_grade =  school_data_complete[school_data_complete[\"grade\"] == \"11th\"].groupby(\"school_name\").mean()[\"math_score\"]\n",
    "twelveth_grade=  school_data_complete[school_data_complete[\"grade\"] == \"12th\"].groupby(\"school_name\").mean()[\"math_score\"]\n",
    "\n",
    "#Combine series into a dataframe\n",
    "math_grade_dataframe = pd.DataFrame({\"Ninth Grade\":nineth_grade, \"Tenth Grade\":tenth_grade, \n",
    "                                     \"Eleventh Grade\":eleventh_grade, \"Twelveth Grade\":twelveth_grade})            \n",
    "\n",
    "#Formatting\n",
    "\n",
    "math_grade_dataframe[[\"Ninth Grade\",\"Tenth Grade\",\"Eleventh Grade\",\"Twelveth Grade\"]] = math_grade_dataframe[[\"Ninth Grade\",\"Tenth Grade\",\"Eleventh Grade\",\"Twelveth Grade\"]].applymap(\"{:.2f}\".format)\n",
    "\n",
    "#Display\n",
    "\n",
    "math_grade_dataframe.style.set_properties(**{'color': 'black !important','border': '2px black solid !important'}).set_table_styles([{'selector': 'th','props': [('border', '3px black solid !important')]}]).format({'A': '{:,.2f}'.format,'B': '{:,.2%}'.format,})"
   ]
  },
  {
   "cell_type": "markdown",
   "metadata": {},
   "source": [
    "## Reading Score by Grade "
   ]
  },
  {
   "cell_type": "markdown",
   "metadata": {},
   "source": [
    "* Perform the same operations as above for reading scores"
   ]
  },
  {
   "cell_type": "code",
   "execution_count": 458,
   "metadata": {},
   "outputs": [
    {
     "data": {
      "text/html": [
       "<style  type=\"text/css\" >\n",
       "    #T_5c2cb049_b523_11eb_8817_f01dbc8d465f th {\n",
       "          border: 3px black solid !important;\n",
       "    }#T_5c2cb049_b523_11eb_8817_f01dbc8d465frow0_col0,#T_5c2cb049_b523_11eb_8817_f01dbc8d465frow0_col1,#T_5c2cb049_b523_11eb_8817_f01dbc8d465frow0_col2,#T_5c2cb049_b523_11eb_8817_f01dbc8d465frow0_col3,#T_5c2cb049_b523_11eb_8817_f01dbc8d465frow1_col0,#T_5c2cb049_b523_11eb_8817_f01dbc8d465frow1_col1,#T_5c2cb049_b523_11eb_8817_f01dbc8d465frow1_col2,#T_5c2cb049_b523_11eb_8817_f01dbc8d465frow1_col3,#T_5c2cb049_b523_11eb_8817_f01dbc8d465frow2_col0,#T_5c2cb049_b523_11eb_8817_f01dbc8d465frow2_col1,#T_5c2cb049_b523_11eb_8817_f01dbc8d465frow2_col2,#T_5c2cb049_b523_11eb_8817_f01dbc8d465frow2_col3,#T_5c2cb049_b523_11eb_8817_f01dbc8d465frow3_col0,#T_5c2cb049_b523_11eb_8817_f01dbc8d465frow3_col1,#T_5c2cb049_b523_11eb_8817_f01dbc8d465frow3_col2,#T_5c2cb049_b523_11eb_8817_f01dbc8d465frow3_col3,#T_5c2cb049_b523_11eb_8817_f01dbc8d465frow4_col0,#T_5c2cb049_b523_11eb_8817_f01dbc8d465frow4_col1,#T_5c2cb049_b523_11eb_8817_f01dbc8d465frow4_col2,#T_5c2cb049_b523_11eb_8817_f01dbc8d465frow4_col3,#T_5c2cb049_b523_11eb_8817_f01dbc8d465frow5_col0,#T_5c2cb049_b523_11eb_8817_f01dbc8d465frow5_col1,#T_5c2cb049_b523_11eb_8817_f01dbc8d465frow5_col2,#T_5c2cb049_b523_11eb_8817_f01dbc8d465frow5_col3,#T_5c2cb049_b523_11eb_8817_f01dbc8d465frow6_col0,#T_5c2cb049_b523_11eb_8817_f01dbc8d465frow6_col1,#T_5c2cb049_b523_11eb_8817_f01dbc8d465frow6_col2,#T_5c2cb049_b523_11eb_8817_f01dbc8d465frow6_col3,#T_5c2cb049_b523_11eb_8817_f01dbc8d465frow7_col0,#T_5c2cb049_b523_11eb_8817_f01dbc8d465frow7_col1,#T_5c2cb049_b523_11eb_8817_f01dbc8d465frow7_col2,#T_5c2cb049_b523_11eb_8817_f01dbc8d465frow7_col3,#T_5c2cb049_b523_11eb_8817_f01dbc8d465frow8_col0,#T_5c2cb049_b523_11eb_8817_f01dbc8d465frow8_col1,#T_5c2cb049_b523_11eb_8817_f01dbc8d465frow8_col2,#T_5c2cb049_b523_11eb_8817_f01dbc8d465frow8_col3,#T_5c2cb049_b523_11eb_8817_f01dbc8d465frow9_col0,#T_5c2cb049_b523_11eb_8817_f01dbc8d465frow9_col1,#T_5c2cb049_b523_11eb_8817_f01dbc8d465frow9_col2,#T_5c2cb049_b523_11eb_8817_f01dbc8d465frow9_col3,#T_5c2cb049_b523_11eb_8817_f01dbc8d465frow10_col0,#T_5c2cb049_b523_11eb_8817_f01dbc8d465frow10_col1,#T_5c2cb049_b523_11eb_8817_f01dbc8d465frow10_col2,#T_5c2cb049_b523_11eb_8817_f01dbc8d465frow10_col3,#T_5c2cb049_b523_11eb_8817_f01dbc8d465frow11_col0,#T_5c2cb049_b523_11eb_8817_f01dbc8d465frow11_col1,#T_5c2cb049_b523_11eb_8817_f01dbc8d465frow11_col2,#T_5c2cb049_b523_11eb_8817_f01dbc8d465frow11_col3,#T_5c2cb049_b523_11eb_8817_f01dbc8d465frow12_col0,#T_5c2cb049_b523_11eb_8817_f01dbc8d465frow12_col1,#T_5c2cb049_b523_11eb_8817_f01dbc8d465frow12_col2,#T_5c2cb049_b523_11eb_8817_f01dbc8d465frow12_col3,#T_5c2cb049_b523_11eb_8817_f01dbc8d465frow13_col0,#T_5c2cb049_b523_11eb_8817_f01dbc8d465frow13_col1,#T_5c2cb049_b523_11eb_8817_f01dbc8d465frow13_col2,#T_5c2cb049_b523_11eb_8817_f01dbc8d465frow13_col3,#T_5c2cb049_b523_11eb_8817_f01dbc8d465frow14_col0,#T_5c2cb049_b523_11eb_8817_f01dbc8d465frow14_col1,#T_5c2cb049_b523_11eb_8817_f01dbc8d465frow14_col2,#T_5c2cb049_b523_11eb_8817_f01dbc8d465frow14_col3{\n",
       "            color:  black !important;\n",
       "            border:  2px black solid !important;\n",
       "        }</style><table id=\"T_5c2cb049_b523_11eb_8817_f01dbc8d465f\" ><thead>    <tr>        <th class=\"blank level0\" ></th>        <th class=\"col_heading level0 col0\" >Ninth Grade</th>        <th class=\"col_heading level0 col1\" >Tenth Grade</th>        <th class=\"col_heading level0 col2\" >Eleventh Grade</th>        <th class=\"col_heading level0 col3\" >Twelveth Grade</th>    </tr>    <tr>        <th class=\"index_name level0\" >school_name</th>        <th class=\"blank\" ></th>        <th class=\"blank\" ></th>        <th class=\"blank\" ></th>        <th class=\"blank\" ></th>    </tr></thead><tbody>\n",
       "                <tr>\n",
       "                        <th id=\"T_5c2cb049_b523_11eb_8817_f01dbc8d465flevel0_row0\" class=\"row_heading level0 row0\" >Bailey High School</th>\n",
       "                        <td id=\"T_5c2cb049_b523_11eb_8817_f01dbc8d465frow0_col0\" class=\"data row0 col0\" >81.30</td>\n",
       "                        <td id=\"T_5c2cb049_b523_11eb_8817_f01dbc8d465frow0_col1\" class=\"data row0 col1\" >80.91</td>\n",
       "                        <td id=\"T_5c2cb049_b523_11eb_8817_f01dbc8d465frow0_col2\" class=\"data row0 col2\" >80.95</td>\n",
       "                        <td id=\"T_5c2cb049_b523_11eb_8817_f01dbc8d465frow0_col3\" class=\"data row0 col3\" >80.91</td>\n",
       "            </tr>\n",
       "            <tr>\n",
       "                        <th id=\"T_5c2cb049_b523_11eb_8817_f01dbc8d465flevel0_row1\" class=\"row_heading level0 row1\" >Cabrera High School</th>\n",
       "                        <td id=\"T_5c2cb049_b523_11eb_8817_f01dbc8d465frow1_col0\" class=\"data row1 col0\" >83.68</td>\n",
       "                        <td id=\"T_5c2cb049_b523_11eb_8817_f01dbc8d465frow1_col1\" class=\"data row1 col1\" >84.25</td>\n",
       "                        <td id=\"T_5c2cb049_b523_11eb_8817_f01dbc8d465frow1_col2\" class=\"data row1 col2\" >83.79</td>\n",
       "                        <td id=\"T_5c2cb049_b523_11eb_8817_f01dbc8d465frow1_col3\" class=\"data row1 col3\" >84.29</td>\n",
       "            </tr>\n",
       "            <tr>\n",
       "                        <th id=\"T_5c2cb049_b523_11eb_8817_f01dbc8d465flevel0_row2\" class=\"row_heading level0 row2\" >Figueroa High School</th>\n",
       "                        <td id=\"T_5c2cb049_b523_11eb_8817_f01dbc8d465frow2_col0\" class=\"data row2 col0\" >81.20</td>\n",
       "                        <td id=\"T_5c2cb049_b523_11eb_8817_f01dbc8d465frow2_col1\" class=\"data row2 col1\" >81.41</td>\n",
       "                        <td id=\"T_5c2cb049_b523_11eb_8817_f01dbc8d465frow2_col2\" class=\"data row2 col2\" >80.64</td>\n",
       "                        <td id=\"T_5c2cb049_b523_11eb_8817_f01dbc8d465frow2_col3\" class=\"data row2 col3\" >81.38</td>\n",
       "            </tr>\n",
       "            <tr>\n",
       "                        <th id=\"T_5c2cb049_b523_11eb_8817_f01dbc8d465flevel0_row3\" class=\"row_heading level0 row3\" >Ford High School</th>\n",
       "                        <td id=\"T_5c2cb049_b523_11eb_8817_f01dbc8d465frow3_col0\" class=\"data row3 col0\" >80.63</td>\n",
       "                        <td id=\"T_5c2cb049_b523_11eb_8817_f01dbc8d465frow3_col1\" class=\"data row3 col1\" >81.26</td>\n",
       "                        <td id=\"T_5c2cb049_b523_11eb_8817_f01dbc8d465frow3_col2\" class=\"data row3 col2\" >80.40</td>\n",
       "                        <td id=\"T_5c2cb049_b523_11eb_8817_f01dbc8d465frow3_col3\" class=\"data row3 col3\" >80.66</td>\n",
       "            </tr>\n",
       "            <tr>\n",
       "                        <th id=\"T_5c2cb049_b523_11eb_8817_f01dbc8d465flevel0_row4\" class=\"row_heading level0 row4\" >Griffin High School</th>\n",
       "                        <td id=\"T_5c2cb049_b523_11eb_8817_f01dbc8d465frow4_col0\" class=\"data row4 col0\" >83.37</td>\n",
       "                        <td id=\"T_5c2cb049_b523_11eb_8817_f01dbc8d465frow4_col1\" class=\"data row4 col1\" >83.71</td>\n",
       "                        <td id=\"T_5c2cb049_b523_11eb_8817_f01dbc8d465frow4_col2\" class=\"data row4 col2\" >84.29</td>\n",
       "                        <td id=\"T_5c2cb049_b523_11eb_8817_f01dbc8d465frow4_col3\" class=\"data row4 col3\" >84.01</td>\n",
       "            </tr>\n",
       "            <tr>\n",
       "                        <th id=\"T_5c2cb049_b523_11eb_8817_f01dbc8d465flevel0_row5\" class=\"row_heading level0 row5\" >Hernandez High School</th>\n",
       "                        <td id=\"T_5c2cb049_b523_11eb_8817_f01dbc8d465frow5_col0\" class=\"data row5 col0\" >80.87</td>\n",
       "                        <td id=\"T_5c2cb049_b523_11eb_8817_f01dbc8d465frow5_col1\" class=\"data row5 col1\" >80.66</td>\n",
       "                        <td id=\"T_5c2cb049_b523_11eb_8817_f01dbc8d465frow5_col2\" class=\"data row5 col2\" >81.40</td>\n",
       "                        <td id=\"T_5c2cb049_b523_11eb_8817_f01dbc8d465frow5_col3\" class=\"data row5 col3\" >80.86</td>\n",
       "            </tr>\n",
       "            <tr>\n",
       "                        <th id=\"T_5c2cb049_b523_11eb_8817_f01dbc8d465flevel0_row6\" class=\"row_heading level0 row6\" >Holden High School</th>\n",
       "                        <td id=\"T_5c2cb049_b523_11eb_8817_f01dbc8d465frow6_col0\" class=\"data row6 col0\" >83.68</td>\n",
       "                        <td id=\"T_5c2cb049_b523_11eb_8817_f01dbc8d465frow6_col1\" class=\"data row6 col1\" >83.32</td>\n",
       "                        <td id=\"T_5c2cb049_b523_11eb_8817_f01dbc8d465frow6_col2\" class=\"data row6 col2\" >83.82</td>\n",
       "                        <td id=\"T_5c2cb049_b523_11eb_8817_f01dbc8d465frow6_col3\" class=\"data row6 col3\" >84.70</td>\n",
       "            </tr>\n",
       "            <tr>\n",
       "                        <th id=\"T_5c2cb049_b523_11eb_8817_f01dbc8d465flevel0_row7\" class=\"row_heading level0 row7\" >Huang High School</th>\n",
       "                        <td id=\"T_5c2cb049_b523_11eb_8817_f01dbc8d465frow7_col0\" class=\"data row7 col0\" >81.29</td>\n",
       "                        <td id=\"T_5c2cb049_b523_11eb_8817_f01dbc8d465frow7_col1\" class=\"data row7 col1\" >81.51</td>\n",
       "                        <td id=\"T_5c2cb049_b523_11eb_8817_f01dbc8d465frow7_col2\" class=\"data row7 col2\" >81.42</td>\n",
       "                        <td id=\"T_5c2cb049_b523_11eb_8817_f01dbc8d465frow7_col3\" class=\"data row7 col3\" >80.31</td>\n",
       "            </tr>\n",
       "            <tr>\n",
       "                        <th id=\"T_5c2cb049_b523_11eb_8817_f01dbc8d465flevel0_row8\" class=\"row_heading level0 row8\" >Johnson High School</th>\n",
       "                        <td id=\"T_5c2cb049_b523_11eb_8817_f01dbc8d465frow8_col0\" class=\"data row8 col0\" >81.26</td>\n",
       "                        <td id=\"T_5c2cb049_b523_11eb_8817_f01dbc8d465frow8_col1\" class=\"data row8 col1\" >80.77</td>\n",
       "                        <td id=\"T_5c2cb049_b523_11eb_8817_f01dbc8d465frow8_col2\" class=\"data row8 col2\" >80.62</td>\n",
       "                        <td id=\"T_5c2cb049_b523_11eb_8817_f01dbc8d465frow8_col3\" class=\"data row8 col3\" >81.23</td>\n",
       "            </tr>\n",
       "            <tr>\n",
       "                        <th id=\"T_5c2cb049_b523_11eb_8817_f01dbc8d465flevel0_row9\" class=\"row_heading level0 row9\" >Pena High School</th>\n",
       "                        <td id=\"T_5c2cb049_b523_11eb_8817_f01dbc8d465frow9_col0\" class=\"data row9 col0\" >83.81</td>\n",
       "                        <td id=\"T_5c2cb049_b523_11eb_8817_f01dbc8d465frow9_col1\" class=\"data row9 col1\" >83.61</td>\n",
       "                        <td id=\"T_5c2cb049_b523_11eb_8817_f01dbc8d465frow9_col2\" class=\"data row9 col2\" >84.34</td>\n",
       "                        <td id=\"T_5c2cb049_b523_11eb_8817_f01dbc8d465frow9_col3\" class=\"data row9 col3\" >84.59</td>\n",
       "            </tr>\n",
       "            <tr>\n",
       "                        <th id=\"T_5c2cb049_b523_11eb_8817_f01dbc8d465flevel0_row10\" class=\"row_heading level0 row10\" >Rodriguez High School</th>\n",
       "                        <td id=\"T_5c2cb049_b523_11eb_8817_f01dbc8d465frow10_col0\" class=\"data row10 col0\" >80.99</td>\n",
       "                        <td id=\"T_5c2cb049_b523_11eb_8817_f01dbc8d465frow10_col1\" class=\"data row10 col1\" >80.63</td>\n",
       "                        <td id=\"T_5c2cb049_b523_11eb_8817_f01dbc8d465frow10_col2\" class=\"data row10 col2\" >80.86</td>\n",
       "                        <td id=\"T_5c2cb049_b523_11eb_8817_f01dbc8d465frow10_col3\" class=\"data row10 col3\" >80.38</td>\n",
       "            </tr>\n",
       "            <tr>\n",
       "                        <th id=\"T_5c2cb049_b523_11eb_8817_f01dbc8d465flevel0_row11\" class=\"row_heading level0 row11\" >Shelton High School</th>\n",
       "                        <td id=\"T_5c2cb049_b523_11eb_8817_f01dbc8d465frow11_col0\" class=\"data row11 col0\" >84.12</td>\n",
       "                        <td id=\"T_5c2cb049_b523_11eb_8817_f01dbc8d465frow11_col1\" class=\"data row11 col1\" >83.44</td>\n",
       "                        <td id=\"T_5c2cb049_b523_11eb_8817_f01dbc8d465frow11_col2\" class=\"data row11 col2\" >84.37</td>\n",
       "                        <td id=\"T_5c2cb049_b523_11eb_8817_f01dbc8d465frow11_col3\" class=\"data row11 col3\" >82.78</td>\n",
       "            </tr>\n",
       "            <tr>\n",
       "                        <th id=\"T_5c2cb049_b523_11eb_8817_f01dbc8d465flevel0_row12\" class=\"row_heading level0 row12\" >Thomas High School</th>\n",
       "                        <td id=\"T_5c2cb049_b523_11eb_8817_f01dbc8d465frow12_col0\" class=\"data row12 col0\" >83.73</td>\n",
       "                        <td id=\"T_5c2cb049_b523_11eb_8817_f01dbc8d465frow12_col1\" class=\"data row12 col1\" >84.25</td>\n",
       "                        <td id=\"T_5c2cb049_b523_11eb_8817_f01dbc8d465frow12_col2\" class=\"data row12 col2\" >83.59</td>\n",
       "                        <td id=\"T_5c2cb049_b523_11eb_8817_f01dbc8d465frow12_col3\" class=\"data row12 col3\" >83.83</td>\n",
       "            </tr>\n",
       "            <tr>\n",
       "                        <th id=\"T_5c2cb049_b523_11eb_8817_f01dbc8d465flevel0_row13\" class=\"row_heading level0 row13\" >Wilson High School</th>\n",
       "                        <td id=\"T_5c2cb049_b523_11eb_8817_f01dbc8d465frow13_col0\" class=\"data row13 col0\" >83.94</td>\n",
       "                        <td id=\"T_5c2cb049_b523_11eb_8817_f01dbc8d465frow13_col1\" class=\"data row13 col1\" >84.02</td>\n",
       "                        <td id=\"T_5c2cb049_b523_11eb_8817_f01dbc8d465frow13_col2\" class=\"data row13 col2\" >83.76</td>\n",
       "                        <td id=\"T_5c2cb049_b523_11eb_8817_f01dbc8d465frow13_col3\" class=\"data row13 col3\" >84.32</td>\n",
       "            </tr>\n",
       "            <tr>\n",
       "                        <th id=\"T_5c2cb049_b523_11eb_8817_f01dbc8d465flevel0_row14\" class=\"row_heading level0 row14\" >Wright High School</th>\n",
       "                        <td id=\"T_5c2cb049_b523_11eb_8817_f01dbc8d465frow14_col0\" class=\"data row14 col0\" >83.83</td>\n",
       "                        <td id=\"T_5c2cb049_b523_11eb_8817_f01dbc8d465frow14_col1\" class=\"data row14 col1\" >83.81</td>\n",
       "                        <td id=\"T_5c2cb049_b523_11eb_8817_f01dbc8d465frow14_col2\" class=\"data row14 col2\" >84.16</td>\n",
       "                        <td id=\"T_5c2cb049_b523_11eb_8817_f01dbc8d465frow14_col3\" class=\"data row14 col3\" >84.07</td>\n",
       "            </tr>\n",
       "    </tbody></table>"
      ],
      "text/plain": [
       "<pandas.io.formats.style.Styler at 0x1daa0eea250>"
      ]
     },
     "execution_count": 458,
     "metadata": {},
     "output_type": "execute_result"
    }
   ],
   "source": [
    "#Same operations as above for reading scores\n",
    "#Pandas series for each grade. Series grouped by school.\n",
    "\n",
    "nineth_grade=  school_data_complete[school_data_complete[\"grade\"] == \"9th\"].groupby(\"school_name\").mean()[\"reading_score\"]\n",
    "tenth_grade =  school_data_complete[school_data_complete[\"grade\"] == \"10th\"].groupby(\"school_name\").mean()[\"reading_score\"]\n",
    "eleventh_grade =  school_data_complete[school_data_complete[\"grade\"] == \"11th\"].groupby(\"school_name\").mean()[\"reading_score\"]\n",
    "twelveth_grade=  school_data_complete[school_data_complete[\"grade\"] == \"12th\"].groupby(\"school_name\").mean()[\"reading_score\"]\n",
    "\n",
    "#Dataframe\n",
    "reading_grade_dataframe = pd.DataFrame({\"Ninth Grade\":nineth_grade, \"Tenth Grade\":tenth_grade, \n",
    "                                     \"Eleventh Grade\":eleventh_grade, \"Twelveth Grade\":twelveth_grade})            \n",
    "\n",
    "#Formatting\n",
    "\n",
    "reading_grade_dataframe[[\"Ninth Grade\",\"Tenth Grade\",\"Eleventh Grade\",\"Twelveth Grade\"]] = reading_grade_dataframe[[\"Ninth Grade\",\"Tenth Grade\",\"Eleventh Grade\",\"Twelveth Grade\"]].applymap(\"{:.2f}\".format)\n",
    "\n",
    "#Display\n",
    "\n",
    "reading_grade_dataframe.style.set_properties(**{'color': 'black !important','border': '2px black solid !important'}).set_table_styles([{'selector': 'th','props': [('border', '3px black solid !important')]}]).format({'A': '{:,.2f}'.format,'B': '{:,.2%}'.format,})"
   ]
  },
  {
   "cell_type": "markdown",
   "metadata": {},
   "source": [
    "## Scores by School Spending"
   ]
  },
  {
   "cell_type": "markdown",
   "metadata": {},
   "source": [
    "* Create a table that breaks down school performances based on average Spending Ranges (Per Student). Use 4 reasonable bins to group school spending. Include in the table each of the following:\n",
    "  * Average Math Score\n",
    "  * Average Reading Score\n",
    "  * % Passing Math\n",
    "  * % Passing Reading\n",
    "  * Overall Passing Rate (Average of the above two)"
   ]
  },
  {
   "cell_type": "code",
   "execution_count": 432,
   "metadata": {},
   "outputs": [
    {
     "data": {
      "text/html": [
       "<style  type=\"text/css\" >\n",
       "    #T_586155dc_b522_11eb_8e5f_f01dbc8d465f th {\n",
       "          border: 3px black solid !important;\n",
       "    }#T_586155dc_b522_11eb_8e5f_f01dbc8d465frow0_col0,#T_586155dc_b522_11eb_8e5f_f01dbc8d465frow0_col1,#T_586155dc_b522_11eb_8e5f_f01dbc8d465frow0_col2,#T_586155dc_b522_11eb_8e5f_f01dbc8d465frow0_col3,#T_586155dc_b522_11eb_8e5f_f01dbc8d465frow0_col4,#T_586155dc_b522_11eb_8e5f_f01dbc8d465frow1_col0,#T_586155dc_b522_11eb_8e5f_f01dbc8d465frow1_col1,#T_586155dc_b522_11eb_8e5f_f01dbc8d465frow1_col2,#T_586155dc_b522_11eb_8e5f_f01dbc8d465frow1_col3,#T_586155dc_b522_11eb_8e5f_f01dbc8d465frow1_col4,#T_586155dc_b522_11eb_8e5f_f01dbc8d465frow2_col0,#T_586155dc_b522_11eb_8e5f_f01dbc8d465frow2_col1,#T_586155dc_b522_11eb_8e5f_f01dbc8d465frow2_col2,#T_586155dc_b522_11eb_8e5f_f01dbc8d465frow2_col3,#T_586155dc_b522_11eb_8e5f_f01dbc8d465frow2_col4,#T_586155dc_b522_11eb_8e5f_f01dbc8d465frow3_col0,#T_586155dc_b522_11eb_8e5f_f01dbc8d465frow3_col1,#T_586155dc_b522_11eb_8e5f_f01dbc8d465frow3_col2,#T_586155dc_b522_11eb_8e5f_f01dbc8d465frow3_col3,#T_586155dc_b522_11eb_8e5f_f01dbc8d465frow3_col4{\n",
       "            color:  black !important;\n",
       "            border:  2px black solid !important;\n",
       "        }</style><table id=\"T_586155dc_b522_11eb_8e5f_f01dbc8d465f\" ><thead>    <tr>        <th class=\"blank level0\" ></th>        <th class=\"col_heading level0 col0\" >reading_score</th>        <th class=\"col_heading level0 col1\" >math_score</th>        <th class=\"col_heading level0 col2\" >% Passing Math</th>        <th class=\"col_heading level0 col3\" >% Passing Reading</th>        <th class=\"col_heading level0 col4\" >% Overall Passing Rate</th>    </tr>    <tr>        <th class=\"index_name level0\" >Spending Ranges (Per Student)</th>        <th class=\"blank\" ></th>        <th class=\"blank\" ></th>        <th class=\"blank\" ></th>        <th class=\"blank\" ></th>        <th class=\"blank\" ></th>    </tr></thead><tbody>\n",
       "                <tr>\n",
       "                        <th id=\"T_586155dc_b522_11eb_8e5f_f01dbc8d465flevel0_row0\" class=\"row_heading level0 row0\" ><$585</th>\n",
       "                        <td id=\"T_586155dc_b522_11eb_8e5f_f01dbc8d465frow0_col0\" class=\"data row0 col0\" >83.933814</td>\n",
       "                        <td id=\"T_586155dc_b522_11eb_8e5f_f01dbc8d465frow0_col1\" class=\"data row0 col1\" >83.455399</td>\n",
       "                        <td id=\"T_586155dc_b522_11eb_8e5f_f01dbc8d465frow0_col2\" class=\"data row0 col2\" >93.460000</td>\n",
       "                        <td id=\"T_586155dc_b522_11eb_8e5f_f01dbc8d465frow0_col3\" class=\"data row0 col3\" >96.610000</td>\n",
       "                        <td id=\"T_586155dc_b522_11eb_8e5f_f01dbc8d465frow0_col4\" class=\"data row0 col4\" >95.035500</td>\n",
       "            </tr>\n",
       "            <tr>\n",
       "                        <th id=\"T_586155dc_b522_11eb_8e5f_f01dbc8d465flevel0_row1\" class=\"row_heading level0 row1\" >$585-615</th>\n",
       "                        <td id=\"T_586155dc_b522_11eb_8e5f_f01dbc8d465frow1_col0\" class=\"data row1 col0\" >83.885211</td>\n",
       "                        <td id=\"T_586155dc_b522_11eb_8e5f_f01dbc8d465frow1_col1\" class=\"data row1 col1\" >83.599686</td>\n",
       "                        <td id=\"T_586155dc_b522_11eb_8e5f_f01dbc8d465frow1_col2\" class=\"data row1 col2\" >94.230000</td>\n",
       "                        <td id=\"T_586155dc_b522_11eb_8e5f_f01dbc8d465frow1_col3\" class=\"data row1 col3\" >95.900000</td>\n",
       "                        <td id=\"T_586155dc_b522_11eb_8e5f_f01dbc8d465frow1_col4\" class=\"data row1 col4\" >95.065500</td>\n",
       "            </tr>\n",
       "            <tr>\n",
       "                        <th id=\"T_586155dc_b522_11eb_8e5f_f01dbc8d465flevel0_row2\" class=\"row_heading level0 row2\" >$615-645</th>\n",
       "                        <td id=\"T_586155dc_b522_11eb_8e5f_f01dbc8d465frow2_col0\" class=\"data row2 col0\" >81.891436</td>\n",
       "                        <td id=\"T_586155dc_b522_11eb_8e5f_f01dbc8d465frow2_col1\" class=\"data row2 col1\" >79.079225</td>\n",
       "                        <td id=\"T_586155dc_b522_11eb_8e5f_f01dbc8d465frow2_col2\" class=\"data row2 col2\" >75.668333</td>\n",
       "                        <td id=\"T_586155dc_b522_11eb_8e5f_f01dbc8d465frow2_col3\" class=\"data row2 col3\" >86.106667</td>\n",
       "                        <td id=\"T_586155dc_b522_11eb_8e5f_f01dbc8d465frow2_col4\" class=\"data row2 col4\" >80.887500</td>\n",
       "            </tr>\n",
       "            <tr>\n",
       "                        <th id=\"T_586155dc_b522_11eb_8e5f_f01dbc8d465flevel0_row3\" class=\"row_heading level0 row3\" >$645-675</th>\n",
       "                        <td id=\"T_586155dc_b522_11eb_8e5f_f01dbc8d465frow3_col0\" class=\"data row3 col0\" >81.027843</td>\n",
       "                        <td id=\"T_586155dc_b522_11eb_8e5f_f01dbc8d465frow3_col1\" class=\"data row3 col1\" >76.997210</td>\n",
       "                        <td id=\"T_586155dc_b522_11eb_8e5f_f01dbc8d465frow3_col2\" class=\"data row3 col2\" >66.163333</td>\n",
       "                        <td id=\"T_586155dc_b522_11eb_8e5f_f01dbc8d465frow3_col3\" class=\"data row3 col3\" >81.133333</td>\n",
       "                        <td id=\"T_586155dc_b522_11eb_8e5f_f01dbc8d465frow3_col4\" class=\"data row3 col4\" >73.649333</td>\n",
       "            </tr>\n",
       "    </tbody></table>"
      ],
      "text/plain": [
       "<pandas.io.formats.style.Styler at 0x1daa0f03ac0>"
      ]
     },
     "execution_count": 432,
     "metadata": {},
     "output_type": "execute_result"
    }
   ],
   "source": [
    "# Sample bins\n",
    "spending_bins = [0, 585, 615, 645, 675]\n",
    "group_names = [\"<$585\", \"$585-615\", \"$615-645\", \"$645-675\"]\n",
    "\n",
    "# 4 bins to group school spending. \n",
    "school_data_summary[\"Spending Ranges (Per Student)\"] = pd.cut(school_data_summary[\"Per Student Budget\"], spending_bins, labels=group_names)\n",
    "\n",
    "school_spending_grouped = school_data_summary.groupby(\"Spending Ranges (Per Student)\").mean() \n",
    "\n",
    "\n",
    "del school_spending_grouped['size_x']\n",
    "del school_spending_grouped['budget_x']\n",
    "del school_spending_grouped['Per Student Budget']\n",
    "del school_spending_grouped['School ID_y']\n",
    "del school_spending_grouped['passing_math']\n",
    "del school_spending_grouped['passing_reading']\n",
    "\n",
    "school_spending_grouped.style.set_properties(**{'color': 'black !important','border': '2px black solid !important'}).set_table_styles([{'selector': 'th','props': [('border', '3px black solid !important')]}]).format({'A': '{:,.2f}'.format,'B': '{:,.2%}'.format,})"
   ]
  },
  {
   "cell_type": "markdown",
   "metadata": {},
   "source": [
    "## Scores by School Size"
   ]
  },
  {
   "cell_type": "markdown",
   "metadata": {},
   "source": [
    "* Perform the same operations as above, based on school size."
   ]
  },
  {
   "cell_type": "code",
   "execution_count": 430,
   "metadata": {
    "scrolled": true
   },
   "outputs": [
    {
     "data": {
      "text/html": [
       "<style  type=\"text/css\" >\n",
       "    #T_42ade9ec_b522_11eb_8c07_f01dbc8d465f th {\n",
       "          border: 3px black solid !important;\n",
       "    }#T_42ade9ec_b522_11eb_8c07_f01dbc8d465frow0_col0,#T_42ade9ec_b522_11eb_8c07_f01dbc8d465frow0_col1,#T_42ade9ec_b522_11eb_8c07_f01dbc8d465frow0_col2,#T_42ade9ec_b522_11eb_8c07_f01dbc8d465frow0_col3,#T_42ade9ec_b522_11eb_8c07_f01dbc8d465frow0_col4,#T_42ade9ec_b522_11eb_8c07_f01dbc8d465frow1_col0,#T_42ade9ec_b522_11eb_8c07_f01dbc8d465frow1_col1,#T_42ade9ec_b522_11eb_8c07_f01dbc8d465frow1_col2,#T_42ade9ec_b522_11eb_8c07_f01dbc8d465frow1_col3,#T_42ade9ec_b522_11eb_8c07_f01dbc8d465frow1_col4,#T_42ade9ec_b522_11eb_8c07_f01dbc8d465frow2_col0,#T_42ade9ec_b522_11eb_8c07_f01dbc8d465frow2_col1,#T_42ade9ec_b522_11eb_8c07_f01dbc8d465frow2_col2,#T_42ade9ec_b522_11eb_8c07_f01dbc8d465frow2_col3,#T_42ade9ec_b522_11eb_8c07_f01dbc8d465frow2_col4{\n",
       "            color:  black !important;\n",
       "            border:  2px black solid !important;\n",
       "        }</style><table id=\"T_42ade9ec_b522_11eb_8c07_f01dbc8d465f\" ><thead>    <tr>        <th class=\"blank level0\" ></th>        <th class=\"col_heading level0 col0\" >reading_score</th>        <th class=\"col_heading level0 col1\" >math_score</th>        <th class=\"col_heading level0 col2\" >% Passing Math</th>        <th class=\"col_heading level0 col3\" >% Passing Reading</th>        <th class=\"col_heading level0 col4\" >% Overall Passing Rate</th>    </tr>    <tr>        <th class=\"index_name level0\" >School Size</th>        <th class=\"blank\" ></th>        <th class=\"blank\" ></th>        <th class=\"blank\" ></th>        <th class=\"blank\" ></th>        <th class=\"blank\" ></th>    </tr></thead><tbody>\n",
       "                <tr>\n",
       "                        <th id=\"T_42ade9ec_b522_11eb_8c07_f01dbc8d465flevel0_row0\" class=\"row_heading level0 row0\" >Small (<1000)</th>\n",
       "                        <td id=\"T_42ade9ec_b522_11eb_8c07_f01dbc8d465frow0_col0\" class=\"data row0 col0\" >83.929843</td>\n",
       "                        <td id=\"T_42ade9ec_b522_11eb_8c07_f01dbc8d465frow0_col1\" class=\"data row0 col1\" >83.821598</td>\n",
       "                        <td id=\"T_42ade9ec_b522_11eb_8c07_f01dbc8d465frow0_col2\" class=\"data row0 col2\" >93.550000</td>\n",
       "                        <td id=\"T_42ade9ec_b522_11eb_8c07_f01dbc8d465frow0_col3\" class=\"data row0 col3\" >96.100000</td>\n",
       "                        <td id=\"T_42ade9ec_b522_11eb_8c07_f01dbc8d465frow0_col4\" class=\"data row0 col4\" >94.824500</td>\n",
       "            </tr>\n",
       "            <tr>\n",
       "                        <th id=\"T_42ade9ec_b522_11eb_8c07_f01dbc8d465flevel0_row1\" class=\"row_heading level0 row1\" >Medium (1000-2000)</th>\n",
       "                        <td id=\"T_42ade9ec_b522_11eb_8c07_f01dbc8d465frow1_col0\" class=\"data row1 col0\" >83.864438</td>\n",
       "                        <td id=\"T_42ade9ec_b522_11eb_8c07_f01dbc8d465frow1_col1\" class=\"data row1 col1\" >83.374684</td>\n",
       "                        <td id=\"T_42ade9ec_b522_11eb_8c07_f01dbc8d465frow1_col2\" class=\"data row1 col2\" >93.598000</td>\n",
       "                        <td id=\"T_42ade9ec_b522_11eb_8c07_f01dbc8d465frow1_col3\" class=\"data row1 col3\" >96.790000</td>\n",
       "                        <td id=\"T_42ade9ec_b522_11eb_8c07_f01dbc8d465frow1_col4\" class=\"data row1 col4\" >95.195400</td>\n",
       "            </tr>\n",
       "            <tr>\n",
       "                        <th id=\"T_42ade9ec_b522_11eb_8c07_f01dbc8d465flevel0_row2\" class=\"row_heading level0 row2\" >Large (2000-5000)</th>\n",
       "                        <td id=\"T_42ade9ec_b522_11eb_8c07_f01dbc8d465frow2_col0\" class=\"data row2 col0\" >81.344493</td>\n",
       "                        <td id=\"T_42ade9ec_b522_11eb_8c07_f01dbc8d465frow2_col1\" class=\"data row2 col1\" >77.746417</td>\n",
       "                        <td id=\"T_42ade9ec_b522_11eb_8c07_f01dbc8d465frow2_col2\" class=\"data row2 col2\" >69.963750</td>\n",
       "                        <td id=\"T_42ade9ec_b522_11eb_8c07_f01dbc8d465frow2_col3\" class=\"data row2 col3\" >82.766250</td>\n",
       "                        <td id=\"T_42ade9ec_b522_11eb_8c07_f01dbc8d465frow2_col4\" class=\"data row2 col4\" >76.365000</td>\n",
       "            </tr>\n",
       "    </tbody></table>"
      ],
      "text/plain": [
       "<pandas.io.formats.style.Styler at 0x1daa0f02970>"
      ]
     },
     "execution_count": 430,
     "metadata": {},
     "output_type": "execute_result"
    }
   ],
   "source": [
    "# Sample bins\n",
    "size_bins = [0, 1000, 2000, 5000]\n",
    "group_names = [\"Small (<1000)\", \"Medium (1000-2000)\", \"Large (2000-5000)\"]\n",
    "\n",
    "# 4 bins to group school spending.  \n",
    "school_data_summary[\"School Size\"] = pd.cut(school_data_summary[\"size_x\"], size_bins, labels=group_names)\n",
    "school_data_summary\n",
    "\n",
    "#group by size_x\n",
    "school_size_grouped = school_data_summary.groupby(\"School Size\").mean() \n",
    "school_size_grouped\n",
    "\n",
    "##Removes the unwanted columns\n",
    "del school_size_grouped['size_x']\n",
    "del school_size_grouped['budget_x']\n",
    "del school_size_grouped['Per Student Budget']\n",
    "del school_size_grouped['School ID_y']\n",
    "del school_size_grouped['passing_math']\n",
    "del school_size_grouped['passing_reading']\n",
    "\n",
    "#Display\n",
    "school_size_grouped.style.set_properties(**{'color': 'black !important','border': '2px black solid !important'}).set_table_styles([{'selector': 'th','props': [('border', '3px black solid !important')]}]).format({'A': '{:,.2f}'.format,'B': '{:,.2%}'.format,})"
   ]
  },
  {
   "cell_type": "markdown",
   "metadata": {},
   "source": [
    "## Scores by School Type"
   ]
  },
  {
   "cell_type": "markdown",
   "metadata": {},
   "source": [
    "* Perform the same operations as above, based on school type"
   ]
  },
  {
   "cell_type": "code",
   "execution_count": 431,
   "metadata": {},
   "outputs": [
    {
     "data": {
      "text/html": [
       "<style  type=\"text/css\" >\n",
       "    #T_4cbf2ff1_b522_11eb_a44e_f01dbc8d465f th {\n",
       "          border: 3px black solid !important;\n",
       "    }#T_4cbf2ff1_b522_11eb_a44e_f01dbc8d465frow0_col0,#T_4cbf2ff1_b522_11eb_a44e_f01dbc8d465frow0_col1,#T_4cbf2ff1_b522_11eb_a44e_f01dbc8d465frow0_col2,#T_4cbf2ff1_b522_11eb_a44e_f01dbc8d465frow0_col3,#T_4cbf2ff1_b522_11eb_a44e_f01dbc8d465frow0_col4,#T_4cbf2ff1_b522_11eb_a44e_f01dbc8d465frow1_col0,#T_4cbf2ff1_b522_11eb_a44e_f01dbc8d465frow1_col1,#T_4cbf2ff1_b522_11eb_a44e_f01dbc8d465frow1_col2,#T_4cbf2ff1_b522_11eb_a44e_f01dbc8d465frow1_col3,#T_4cbf2ff1_b522_11eb_a44e_f01dbc8d465frow1_col4{\n",
       "            color:  black !important;\n",
       "            border:  2px black solid !important;\n",
       "        }</style><table id=\"T_4cbf2ff1_b522_11eb_a44e_f01dbc8d465f\" ><thead>    <tr>        <th class=\"blank level0\" ></th>        <th class=\"col_heading level0 col0\" >reading_score</th>        <th class=\"col_heading level0 col1\" >math_score</th>        <th class=\"col_heading level0 col2\" >% Passing Math</th>        <th class=\"col_heading level0 col3\" >% Passing Reading</th>        <th class=\"col_heading level0 col4\" >% Overall Passing Rate</th>    </tr>    <tr>        <th class=\"index_name level0\" >type</th>        <th class=\"blank\" ></th>        <th class=\"blank\" ></th>        <th class=\"blank\" ></th>        <th class=\"blank\" ></th>        <th class=\"blank\" ></th>    </tr></thead><tbody>\n",
       "                <tr>\n",
       "                        <th id=\"T_4cbf2ff1_b522_11eb_a44e_f01dbc8d465flevel0_row0\" class=\"row_heading level0 row0\" >Charter</th>\n",
       "                        <td id=\"T_4cbf2ff1_b522_11eb_a44e_f01dbc8d465frow0_col0\" class=\"data row0 col0\" >83.896421</td>\n",
       "                        <td id=\"T_4cbf2ff1_b522_11eb_a44e_f01dbc8d465frow0_col1\" class=\"data row0 col1\" >83.473852</td>\n",
       "                        <td id=\"T_4cbf2ff1_b522_11eb_a44e_f01dbc8d465frow0_col2\" class=\"data row0 col2\" >93.620000</td>\n",
       "                        <td id=\"T_4cbf2ff1_b522_11eb_a44e_f01dbc8d465frow0_col3\" class=\"data row0 col3\" >96.586250</td>\n",
       "                        <td id=\"T_4cbf2ff1_b522_11eb_a44e_f01dbc8d465frow0_col4\" class=\"data row0 col4\" >95.103750</td>\n",
       "            </tr>\n",
       "            <tr>\n",
       "                        <th id=\"T_4cbf2ff1_b522_11eb_a44e_f01dbc8d465flevel0_row1\" class=\"row_heading level0 row1\" >District</th>\n",
       "                        <td id=\"T_4cbf2ff1_b522_11eb_a44e_f01dbc8d465frow1_col0\" class=\"data row1 col0\" >80.966636</td>\n",
       "                        <td id=\"T_4cbf2ff1_b522_11eb_a44e_f01dbc8d465frow1_col1\" class=\"data row1 col1\" >76.956733</td>\n",
       "                        <td id=\"T_4cbf2ff1_b522_11eb_a44e_f01dbc8d465frow1_col2\" class=\"data row1 col2\" >66.548571</td>\n",
       "                        <td id=\"T_4cbf2ff1_b522_11eb_a44e_f01dbc8d465frow1_col3\" class=\"data row1 col3\" >80.798571</td>\n",
       "                        <td id=\"T_4cbf2ff1_b522_11eb_a44e_f01dbc8d465frow1_col4\" class=\"data row1 col4\" >73.673714</td>\n",
       "            </tr>\n",
       "    </tbody></table>"
      ],
      "text/plain": [
       "<pandas.io.formats.style.Styler at 0x1daa0e411c0>"
      ]
     },
     "execution_count": 431,
     "metadata": {},
     "output_type": "execute_result"
    }
   ],
   "source": [
    "school_type_grouped = school_data_summary.groupby(\"type\").mean()\n",
    "\n",
    "#Removes the unwanted columns\n",
    "del school_type_grouped['size_x']\n",
    "del school_type_grouped['budget_x']\n",
    "del school_type_grouped['Per Student Budget']\n",
    "del school_type_grouped['School ID_y']\n",
    "del school_type_grouped['passing_math']\n",
    "del school_type_grouped['passing_reading']\n",
    "\n",
    "school_type_grouped.style.set_properties(**{'color': 'black !important','border': '2px black solid !important'}).set_table_styles([{'selector': 'th','props': [('border', '3px black solid !important')]}]).format({'A': '{:,.2f}'.format,'B': '{:,.2%}'.format,})"
   ]
  },
  {
   "cell_type": "code",
   "execution_count": null,
   "metadata": {},
   "outputs": [],
   "source": []
  }
 ],
 "metadata": {
  "anaconda-cloud": {},
  "kernel_info": {
   "name": "python3"
  },
  "kernelspec": {
   "display_name": "Python 3",
   "language": "python",
   "name": "python3"
  },
  "language_info": {
   "codemirror_mode": {
    "name": "ipython",
    "version": 3
   },
   "file_extension": ".py",
   "mimetype": "text/x-python",
   "name": "python",
   "nbconvert_exporter": "python",
   "pygments_lexer": "ipython3",
   "version": "3.8.5"
  },
  "latex_envs": {
   "LaTeX_envs_menu_present": true,
   "autoclose": false,
   "autocomplete": true,
   "bibliofile": "biblio.bib",
   "cite_by": "apalike",
   "current_citInitial": 1,
   "eqLabelWithNumbers": true,
   "eqNumInitial": 1,
   "hotkeys": {
    "equation": "Ctrl-E",
    "itemize": "Ctrl-I"
   },
   "labels_anchors": false,
   "latex_user_defs": false,
   "report_style_numbering": false,
   "user_envs_cfg": false
  },
  "nteract": {
   "version": "0.8.4"
  }
 },
 "nbformat": 4,
 "nbformat_minor": 1
}
